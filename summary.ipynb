{
 "cells": [
  {
   "cell_type": "code",
   "execution_count": 1,
   "metadata": {
    "ExecuteTime": {
     "end_time": "2024-08-11T01:56:39.742491Z",
     "start_time": "2024-08-11T01:56:38.996741Z"
    }
   },
   "outputs": [],
   "source": [
    "import torch.nn as nn\n",
    "import torch\n",
    "from torchinfo import summary\n",
    "import math\n",
    "from thop import profile"
   ]
  },
  {
   "cell_type": "code",
   "execution_count": 3,
   "metadata": {
    "ExecuteTime": {
     "end_time": "2024-08-11T01:56:41.643346Z",
     "start_time": "2024-08-11T01:56:41.629263Z"
    }
   },
   "outputs": [],
   "source": [
    "from backbone import efficientnet_b0 "
   ]
  },
  {
   "cell_type": "code",
   "execution_count": 3,
   "metadata": {
    "ExecuteTime": {
     "end_time": "2024-08-11T01:56:43.080365Z",
     "start_time": "2024-08-11T01:56:43.016135Z"
    }
   },
   "outputs": [],
   "source": [
    "model = efficientnet_b0(num_classes=2)"
   ]
  },
  {
   "cell_type": "code",
   "execution_count": 4,
   "metadata": {
    "ExecuteTime": {
     "end_time": "2024-08-11T01:56:46.710292Z",
     "start_time": "2024-08-11T01:56:46.499677Z"
    }
   },
   "outputs": [
    {
     "name": "stdout",
     "output_type": "stream",
     "text": [
      "torch.Size([1, 2])\n"
     ]
    }
   ],
   "source": [
    "input = torch.randn(1, 3, 224, 224)\n",
    "output = model(input)\n",
    "print(output.shape) "
   ]
  },
  {
   "cell_type": "code",
   "execution_count": 5,
   "metadata": {},
   "outputs": [
    {
     "name": "stdout",
     "output_type": "stream",
     "text": [
      "[INFO] Register count_convNd() for <class 'torch.nn.modules.conv.Conv2d'>.\n",
      "[INFO] Register count_normalization() for <class 'torch.nn.modules.batchnorm.BatchNorm2d'>.\n",
      "[INFO] Register count_adap_avgpool() for <class 'torch.nn.modules.pooling.AdaptiveAvgPool2d'>.\n",
      "[INFO] Register zero_ops() for <class 'torch.nn.modules.activation.ReLU6'>.\n",
      "[INFO] Register zero_ops() for <class 'torch.nn.modules.container.Sequential'>.\n",
      "[INFO] Register zero_ops() for <class 'torch.nn.modules.dropout.Dropout'>.\n",
      "[INFO] Register count_linear() for <class 'torch.nn.modules.linear.Linear'>.\n"
     ]
    }
   ],
   "source": [
    "macs, params = profile(model, inputs=(input, ))"
   ]
  },
  {
   "cell_type": "code",
   "execution_count": 6,
   "metadata": {},
   "outputs": [
    {
     "name": "stdout",
     "output_type": "stream",
     "text": [
      "FLOPs: 0.425548232 G\n",
      "Params: 4.104222 M\n"
     ]
    }
   ],
   "source": [
    "print(f\"FLOPs: {macs / 1e9} G\")  # 打印计算量（以十亿次浮点运算为单位）  \n",
    "print(f\"Params: {params / 1e6} M\")  # 打印参数量（以百万为单位）"
   ]
  },
  {
   "cell_type": "code",
   "execution_count": 7,
   "metadata": {
    "ExecuteTime": {
     "end_time": "2024-08-11T01:48:27.024802Z",
     "start_time": "2024-08-11T01:48:23.499011Z"
    }
   },
   "outputs": [
    {
     "data": {
      "text/plain": [
       "====================================================================================================\n",
       "Layer (type:depth-idx)                             Output Shape              Param #\n",
       "====================================================================================================\n",
       "EfficientNet                                       [1, 2]                    --\n",
       "├─Sequential: 1-1                                  [1, 1280, 7, 7]           --\n",
       "│    └─ConvBNActivation: 2-1                       [1, 32, 112, 112]         --\n",
       "│    │    └─Conv2d: 3-1                            [1, 32, 112, 112]         864\n",
       "│    │    └─BatchNorm2d: 3-2                       [1, 32, 112, 112]         64\n",
       "│    │    └─SiLU: 3-3                              [1, 32, 112, 112]         --\n",
       "│    └─CoordAtt: 2-2                               [1, 32, 112, 112]         --\n",
       "│    │    └─AdaptiveAvgPool2d: 3-4                 [1, 32, 112, 1]           --\n",
       "│    │    └─AdaptiveAvgPool2d: 3-5                 [1, 32, 1, 112]           --\n",
       "│    │    └─Conv2d: 3-6                            [1, 8, 224, 1]            264\n",
       "│    │    └─BatchNorm2d: 3-7                       [1, 8, 224, 1]            16\n",
       "│    │    └─h_swish: 3-8                           [1, 8, 224, 1]            --\n",
       "│    │    └─Conv2d: 3-9                            [1, 32, 112, 1]           288\n",
       "│    │    └─Conv2d: 3-10                           [1, 32, 1, 112]           288\n",
       "│    └─InvertedResidual: 2-3                       [1, 16, 112, 112]         --\n",
       "│    │    └─Sequential: 3-11                       [1, 16, 112, 112]         1,752\n",
       "│    │    └─Identity: 3-12                         [1, 16, 112, 112]         --\n",
       "│    └─InvertedResidual: 2-4                       [1, 24, 56, 56]           --\n",
       "│    │    └─Sequential: 3-13                       [1, 24, 56, 56]           7,656\n",
       "│    │    └─Identity: 3-14                         [1, 24, 56, 56]           --\n",
       "│    └─InvertedResidual: 2-5                       [1, 24, 56, 56]           --\n",
       "│    │    └─Sequential: 3-15                       [1, 24, 56, 56]           12,600\n",
       "│    │    └─DropPath: 3-16                         [1, 24, 56, 56]           --\n",
       "│    └─InvertedResidual: 2-6                       [1, 40, 28, 28]           --\n",
       "│    │    └─Sequential: 3-17                       [1, 40, 28, 28]           17,240\n",
       "│    │    └─Identity: 3-18                         [1, 40, 28, 28]           --\n",
       "│    └─InvertedResidual: 2-7                       [1, 40, 28, 28]           --\n",
       "│    │    └─Sequential: 3-19                       [1, 40, 28, 28]           32,504\n",
       "│    │    └─DropPath: 3-20                         [1, 40, 28, 28]           --\n",
       "│    └─InvertedResidual: 2-8                       [1, 80, 14, 14]           --\n",
       "│    │    └─Sequential: 3-21                       [1, 80, 14, 14]           38,344\n",
       "│    │    └─Identity: 3-22                         [1, 80, 14, 14]           --\n",
       "│    └─InvertedResidual: 2-9                       [1, 80, 14, 14]           --\n",
       "│    │    └─Sequential: 3-23                       [1, 80, 14, 14]           105,805\n",
       "│    │    └─DropPath: 3-24                         [1, 80, 14, 14]           --\n",
       "│    └─InvertedResidual: 2-10                      [1, 80, 14, 14]           --\n",
       "│    │    └─Sequential: 3-25                       [1, 80, 14, 14]           105,805\n",
       "│    │    └─DropPath: 3-26                         [1, 80, 14, 14]           --\n",
       "│    └─InvertedResidual: 2-11                      [1, 112, 14, 14]          --\n",
       "│    │    └─Sequential: 3-27                       [1, 112, 14, 14]          128,909\n",
       "│    │    └─Identity: 3-28                         [1, 112, 14, 14]          --\n",
       "│    └─InvertedResidual: 2-12                      [1, 112, 14, 14]          --\n",
       "│    │    └─Sequential: 3-29                       [1, 112, 14, 14]          213,983\n",
       "│    │    └─DropPath: 3-30                         [1, 112, 14, 14]          --\n",
       "│    └─InvertedResidual: 2-13                      [1, 112, 14, 14]          --\n",
       "│    │    └─Sequential: 3-31                       [1, 112, 14, 14]          213,983\n",
       "│    │    └─DropPath: 3-32                         [1, 112, 14, 14]          --\n",
       "│    └─InvertedResidual: 2-14                      [1, 192, 7, 7]            --\n",
       "│    │    └─Sequential: 3-33                       [1, 192, 7, 7]            267,903\n",
       "│    │    └─Identity: 3-34                         [1, 192, 7, 7]            --\n",
       "│    └─InvertedResidual: 2-15                      [1, 192, 7, 7]            --\n",
       "│    │    └─Sequential: 3-35                       [1, 192, 7, 7]            602,988\n",
       "│    │    └─DropPath: 3-36                         [1, 192, 7, 7]            --\n",
       "│    └─InvertedResidual: 2-16                      [1, 192, 7, 7]            --\n",
       "│    │    └─Sequential: 3-37                       [1, 192, 7, 7]            602,988\n",
       "│    │    └─DropPath: 3-38                         [1, 192, 7, 7]            --\n",
       "│    └─InvertedResidual: 2-17                      [1, 192, 7, 7]            --\n",
       "│    │    └─Sequential: 3-39                       [1, 192, 7, 7]            602,988\n",
       "│    │    └─DropPath: 3-40                         [1, 192, 7, 7]            --\n",
       "│    └─InvertedResidual: 2-18                      [1, 320, 7, 7]            --\n",
       "│    │    └─Sequential: 3-41                       [1, 320, 7, 7]            732,268\n",
       "│    │    └─Identity: 3-42                         [1, 320, 7, 7]            --\n",
       "│    └─ConvBNActivation: 2-19                      [1, 1280, 7, 7]           --\n",
       "│    │    └─Conv2d: 3-43                           [1, 1280, 7, 7]           409,600\n",
       "│    │    └─BatchNorm2d: 3-44                      [1, 1280, 7, 7]           2,560\n",
       "│    │    └─SiLU: 3-45                             [1, 1280, 7, 7]           --\n",
       "├─AdaptiveAvgPool2d: 1-2                           [1, 1280, 1, 1]           --\n",
       "├─Sequential: 1-3                                  [1, 2]                    --\n",
       "│    └─Dropout: 2-20                               [1, 1280]                 --\n",
       "│    └─Linear: 2-21                                [1, 2]                    2,562\n",
       "====================================================================================================\n",
       "Total params: 4,104,222\n",
       "Trainable params: 4,104,222\n",
       "Non-trainable params: 0\n",
       "Total mult-adds (M): 393.13\n",
       "====================================================================================================\n",
       "Input size (MB): 0.60\n",
       "Forward/backward pass size (MB): 109.75\n",
       "Params size (MB): 16.42\n",
       "Estimated Total Size (MB): 126.77\n",
       "===================================================================================================="
      ]
     },
     "execution_count": 7,
     "metadata": {},
     "output_type": "execute_result"
    }
   ],
   "source": [
    "summary(model, (1, 3, 224, 224))"
   ]
  }
 ],
 "metadata": {
  "kernelspec": {
   "display_name": "Python 3 (ipykernel)",
   "language": "python",
   "name": "python3"
  },
  "language_info": {
   "codemirror_mode": {
    "name": "ipython",
    "version": 3
   },
   "file_extension": ".py",
   "mimetype": "text/x-python",
   "name": "python",
   "nbconvert_exporter": "python",
   "pygments_lexer": "ipython3",
   "version": "3.7.16"
  }
 },
 "nbformat": 4,
 "nbformat_minor": 2
}
